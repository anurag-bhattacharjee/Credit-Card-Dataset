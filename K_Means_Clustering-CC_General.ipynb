{
 "cells": [
  {
   "cell_type": "code",
   "execution_count": null,
   "metadata": {
    "colab": {
     "base_uri": "https://localhost:8080/"
    },
    "id": "w1hDk9hDvOH7",
    "outputId": "a8d74d2a-0f7d-4765-beb6-2e0c617feb84"
   },
   "outputs": [],
   "source": [
    "from google.colab import drive\n",
    "drive.mount('/gdrive')\n",
    "#Change current working directory to gdrive\n",
    "%cd /gdrive\n"
   ]
  },
  {
   "cell_type": "code",
   "execution_count": 1,
   "metadata": {
    "colab": {
     "base_uri": "https://localhost:8080/"
    },
    "id": "AjSbD5jAZ69V",
    "outputId": "dab4f342-539e-45df-df09-eb8e4fc3717e"
   },
   "outputs": [
    {
     "name": "stdout",
     "output_type": "stream",
     "text": [
      "Requirement already satisfied: minisom in /Users/anuragbhattacharjee/opt/anaconda3/lib/python3.8/site-packages (2.2.9)\n",
      "Note: you may need to restart the kernel to use updated packages.\n"
     ]
    }
   ],
   "source": [
    "pip install minisom\n"
   ]
  },
  {
   "cell_type": "code",
   "execution_count": 2,
   "metadata": {
    "id": "u9U414GoWQrT"
   },
   "outputs": [],
   "source": [
    "import pandas as pd\n",
    "import numpy as np\n",
    "from sklearn.cluster import KMeans\n",
    "# t-SNE visualization\n",
    "from sklearn.manifold import TSNE\n",
    "\n",
    "# imputation\n",
    "from sklearn.impute import KNNImputer\n",
    "\n",
    "# Scaling\n",
    "from sklearn.preprocessing import StandardScaler\n",
    "\n",
    "# PCA\n",
    "from sklearn.decomposition import PCA\n",
    "\n",
    "# K-means for Clustering\n",
    "from sklearn.cluster import KMeans\n",
    "\n",
    "# cluster metrics\n",
    "from sklearn.metrics import davies_bouldin_score\n",
    "from sklearn.metrics import silhouette_score\n",
    "\n",
    "# Calculate silhouette_score\n",
    "from sklearn.metrics import silhouette_score\n",
    "\n",
    "import warnings\n",
    "warnings.filterwarnings(\"ignore\")\n"
   ]
  },
  {
   "cell_type": "code",
   "execution_count": 3,
   "metadata": {
    "colab": {
     "base_uri": "https://localhost:8080/"
    },
    "id": "BMwGQK7KAd7T",
    "outputId": "005324e0-1778-4699-ac7b-79e6dec34d95"
   },
   "outputs": [
    {
     "name": "stdout",
     "output_type": "stream",
     "text": [
      "(8950, 18)\n"
     ]
    },
    {
     "data": {
      "text/html": [
       "<div>\n",
       "<style scoped>\n",
       "    .dataframe tbody tr th:only-of-type {\n",
       "        vertical-align: middle;\n",
       "    }\n",
       "\n",
       "    .dataframe tbody tr th {\n",
       "        vertical-align: top;\n",
       "    }\n",
       "\n",
       "    .dataframe thead th {\n",
       "        text-align: right;\n",
       "    }\n",
       "</style>\n",
       "<table border=\"1\" class=\"dataframe\">\n",
       "  <thead>\n",
       "    <tr style=\"text-align: right;\">\n",
       "      <th></th>\n",
       "      <th>CUST_ID</th>\n",
       "      <th>BALANCE</th>\n",
       "      <th>BALANCE_FREQUENCY</th>\n",
       "      <th>PURCHASES</th>\n",
       "      <th>ONEOFF_PURCHASES</th>\n",
       "      <th>INSTALLMENTS_PURCHASES</th>\n",
       "      <th>CASH_ADVANCE</th>\n",
       "      <th>PURCHASES_FREQUENCY</th>\n",
       "      <th>ONEOFF_PURCHASES_FREQUENCY</th>\n",
       "      <th>PURCHASES_INSTALLMENTS_FREQUENCY</th>\n",
       "      <th>CASH_ADVANCE_FREQUENCY</th>\n",
       "      <th>CASH_ADVANCE_TRX</th>\n",
       "      <th>PURCHASES_TRX</th>\n",
       "      <th>CREDIT_LIMIT</th>\n",
       "      <th>PAYMENTS</th>\n",
       "      <th>MINIMUM_PAYMENTS</th>\n",
       "      <th>PRC_FULL_PAYMENT</th>\n",
       "      <th>TENURE</th>\n",
       "    </tr>\n",
       "  </thead>\n",
       "  <tbody>\n",
       "    <tr>\n",
       "      <th>0</th>\n",
       "      <td>C10001</td>\n",
       "      <td>40.900749</td>\n",
       "      <td>0.818182</td>\n",
       "      <td>95.40</td>\n",
       "      <td>0.00</td>\n",
       "      <td>95.4</td>\n",
       "      <td>0.000000</td>\n",
       "      <td>0.166667</td>\n",
       "      <td>0.000000</td>\n",
       "      <td>0.083333</td>\n",
       "      <td>0.000000</td>\n",
       "      <td>0</td>\n",
       "      <td>2</td>\n",
       "      <td>1000.0</td>\n",
       "      <td>201.802084</td>\n",
       "      <td>139.509787</td>\n",
       "      <td>0.000000</td>\n",
       "      <td>12</td>\n",
       "    </tr>\n",
       "    <tr>\n",
       "      <th>1</th>\n",
       "      <td>C10002</td>\n",
       "      <td>3202.467416</td>\n",
       "      <td>0.909091</td>\n",
       "      <td>0.00</td>\n",
       "      <td>0.00</td>\n",
       "      <td>0.0</td>\n",
       "      <td>6442.945483</td>\n",
       "      <td>0.000000</td>\n",
       "      <td>0.000000</td>\n",
       "      <td>0.000000</td>\n",
       "      <td>0.250000</td>\n",
       "      <td>4</td>\n",
       "      <td>0</td>\n",
       "      <td>7000.0</td>\n",
       "      <td>4103.032597</td>\n",
       "      <td>1072.340217</td>\n",
       "      <td>0.222222</td>\n",
       "      <td>12</td>\n",
       "    </tr>\n",
       "    <tr>\n",
       "      <th>2</th>\n",
       "      <td>C10003</td>\n",
       "      <td>2495.148862</td>\n",
       "      <td>1.000000</td>\n",
       "      <td>773.17</td>\n",
       "      <td>773.17</td>\n",
       "      <td>0.0</td>\n",
       "      <td>0.000000</td>\n",
       "      <td>1.000000</td>\n",
       "      <td>1.000000</td>\n",
       "      <td>0.000000</td>\n",
       "      <td>0.000000</td>\n",
       "      <td>0</td>\n",
       "      <td>12</td>\n",
       "      <td>7500.0</td>\n",
       "      <td>622.066742</td>\n",
       "      <td>627.284787</td>\n",
       "      <td>0.000000</td>\n",
       "      <td>12</td>\n",
       "    </tr>\n",
       "    <tr>\n",
       "      <th>3</th>\n",
       "      <td>C10004</td>\n",
       "      <td>1666.670542</td>\n",
       "      <td>0.636364</td>\n",
       "      <td>1499.00</td>\n",
       "      <td>1499.00</td>\n",
       "      <td>0.0</td>\n",
       "      <td>205.788017</td>\n",
       "      <td>0.083333</td>\n",
       "      <td>0.083333</td>\n",
       "      <td>0.000000</td>\n",
       "      <td>0.083333</td>\n",
       "      <td>1</td>\n",
       "      <td>1</td>\n",
       "      <td>7500.0</td>\n",
       "      <td>0.000000</td>\n",
       "      <td>NaN</td>\n",
       "      <td>0.000000</td>\n",
       "      <td>12</td>\n",
       "    </tr>\n",
       "    <tr>\n",
       "      <th>4</th>\n",
       "      <td>C10005</td>\n",
       "      <td>817.714335</td>\n",
       "      <td>1.000000</td>\n",
       "      <td>16.00</td>\n",
       "      <td>16.00</td>\n",
       "      <td>0.0</td>\n",
       "      <td>0.000000</td>\n",
       "      <td>0.083333</td>\n",
       "      <td>0.083333</td>\n",
       "      <td>0.000000</td>\n",
       "      <td>0.000000</td>\n",
       "      <td>0</td>\n",
       "      <td>1</td>\n",
       "      <td>1200.0</td>\n",
       "      <td>678.334763</td>\n",
       "      <td>244.791237</td>\n",
       "      <td>0.000000</td>\n",
       "      <td>12</td>\n",
       "    </tr>\n",
       "  </tbody>\n",
       "</table>\n",
       "</div>"
      ],
      "text/plain": [
       "  CUST_ID      BALANCE  BALANCE_FREQUENCY  PURCHASES  ONEOFF_PURCHASES  \\\n",
       "0  C10001    40.900749           0.818182      95.40              0.00   \n",
       "1  C10002  3202.467416           0.909091       0.00              0.00   \n",
       "2  C10003  2495.148862           1.000000     773.17            773.17   \n",
       "3  C10004  1666.670542           0.636364    1499.00           1499.00   \n",
       "4  C10005   817.714335           1.000000      16.00             16.00   \n",
       "\n",
       "   INSTALLMENTS_PURCHASES  CASH_ADVANCE  PURCHASES_FREQUENCY  \\\n",
       "0                    95.4      0.000000             0.166667   \n",
       "1                     0.0   6442.945483             0.000000   \n",
       "2                     0.0      0.000000             1.000000   \n",
       "3                     0.0    205.788017             0.083333   \n",
       "4                     0.0      0.000000             0.083333   \n",
       "\n",
       "   ONEOFF_PURCHASES_FREQUENCY  PURCHASES_INSTALLMENTS_FREQUENCY  \\\n",
       "0                    0.000000                          0.083333   \n",
       "1                    0.000000                          0.000000   \n",
       "2                    1.000000                          0.000000   \n",
       "3                    0.083333                          0.000000   \n",
       "4                    0.083333                          0.000000   \n",
       "\n",
       "   CASH_ADVANCE_FREQUENCY  CASH_ADVANCE_TRX  PURCHASES_TRX  CREDIT_LIMIT  \\\n",
       "0                0.000000                 0              2        1000.0   \n",
       "1                0.250000                 4              0        7000.0   \n",
       "2                0.000000                 0             12        7500.0   \n",
       "3                0.083333                 1              1        7500.0   \n",
       "4                0.000000                 0              1        1200.0   \n",
       "\n",
       "      PAYMENTS  MINIMUM_PAYMENTS  PRC_FULL_PAYMENT  TENURE  \n",
       "0   201.802084        139.509787          0.000000      12  \n",
       "1  4103.032597       1072.340217          0.222222      12  \n",
       "2   622.066742        627.284787          0.000000      12  \n",
       "3     0.000000               NaN          0.000000      12  \n",
       "4   678.334763        244.791237          0.000000      12  "
      ]
     },
     "execution_count": 3,
     "metadata": {},
     "output_type": "execute_result"
    }
   ],
   "source": [
    "#Read files\n",
    "trainfile = r'CC GENERAL.csv'\n",
    "trainData = pd.read_csv(trainfile) #creates a dataframe\n",
    "\n",
    "\n",
    "print(trainData.shape)\n",
    "trainData.head()\n"
   ]
  },
  {
   "cell_type": "code",
   "execution_count": 4,
   "metadata": {},
   "outputs": [
    {
     "data": {
      "text/plain": [
       "CUST_ID                               0\n",
       "BALANCE                               0\n",
       "BALANCE_FREQUENCY                     0\n",
       "PURCHASES                             0\n",
       "ONEOFF_PURCHASES                      0\n",
       "INSTALLMENTS_PURCHASES                0\n",
       "CASH_ADVANCE                          0\n",
       "PURCHASES_FREQUENCY                   0\n",
       "ONEOFF_PURCHASES_FREQUENCY            0\n",
       "PURCHASES_INSTALLMENTS_FREQUENCY      0\n",
       "CASH_ADVANCE_FREQUENCY                0\n",
       "CASH_ADVANCE_TRX                      0\n",
       "PURCHASES_TRX                         0\n",
       "CREDIT_LIMIT                          1\n",
       "PAYMENTS                              0\n",
       "MINIMUM_PAYMENTS                    313\n",
       "PRC_FULL_PAYMENT                      0\n",
       "TENURE                                0\n",
       "dtype: int64"
      ]
     },
     "execution_count": 4,
     "metadata": {},
     "output_type": "execute_result"
    }
   ],
   "source": [
    "trainData.isna().sum()"
   ]
  },
  {
   "cell_type": "code",
   "execution_count": 5,
   "metadata": {},
   "outputs": [],
   "source": [
    "def outlier_percent(data):\n",
    "    Q1 = data.quantile(0.25)\n",
    "    Q3 = data.quantile(0.75)\n",
    "    IQR = Q3 - Q1\n",
    "    minimum = Q1 - (1.5 * IQR)\n",
    "    maximum = Q3 + (1.5 * IQR)\n",
    "    num_outliers =  np.sum((data < minimum) |(data > maximum))\n",
    "    num_total = data.count()\n",
    "    return (num_outliers/num_total)*100"
   ]
  },
  {
   "cell_type": "code",
   "execution_count": 6,
   "metadata": {},
   "outputs": [
    {
     "name": "stdout",
     "output_type": "stream",
     "text": [
      "Outliers in \"BALANCE\": 7.77%\n",
      "Outliers in \"BALANCE_FREQUENCY\": 16.68%\n",
      "Outliers in \"PURCHASES\": 9.03%\n",
      "Outliers in \"ONEOFF_PURCHASES\": 11.32%\n",
      "Outliers in \"INSTALLMENTS_PURCHASES\": 9.69%\n",
      "Outliers in \"CASH_ADVANCE\": 11.51%\n",
      "Outliers in \"PURCHASES_FREQUENCY\": 0.0%\n",
      "Outliers in \"ONEOFF_PURCHASES_FREQUENCY\": 8.74%\n",
      "Outliers in \"PURCHASES_INSTALLMENTS_FREQUENCY\": 0.0%\n",
      "Outliers in \"CASH_ADVANCE_FREQUENCY\": 5.87%\n",
      "Outliers in \"CASH_ADVANCE_TRX\": 8.98%\n",
      "Outliers in \"PURCHASES_TRX\": 8.56%\n",
      "Outliers in \"CREDIT_LIMIT\": 2.77%\n",
      "Outliers in \"PAYMENTS\": 9.03%\n",
      "Outliers in \"MINIMUM_PAYMENTS\": 9.74%\n",
      "Outliers in \"PRC_FULL_PAYMENT\": 16.47%\n",
      "Outliers in \"TENURE\": 15.26%\n"
     ]
    }
   ],
   "source": [
    "non_categorical_data = trainData.drop(['CUST_ID'], axis=1)\n",
    "for column in non_categorical_data.columns:\n",
    "    data = non_categorical_data[column]\n",
    "    percent = str(round(outlier_percent(data), 2))\n",
    "    print(f'Outliers in \"{column}\": {percent}%')"
   ]
  },
  {
   "cell_type": "code",
   "execution_count": 7,
   "metadata": {},
   "outputs": [
    {
     "data": {
      "text/plain": [
       "BALANCE                              695\n",
       "BALANCE_FREQUENCY                   1493\n",
       "PURCHASES                            808\n",
       "ONEOFF_PURCHASES                    1013\n",
       "INSTALLMENTS_PURCHASES               867\n",
       "CASH_ADVANCE                        1030\n",
       "PURCHASES_FREQUENCY                    0\n",
       "ONEOFF_PURCHASES_FREQUENCY           782\n",
       "PURCHASES_INSTALLMENTS_FREQUENCY       0\n",
       "CASH_ADVANCE_FREQUENCY               525\n",
       "CASH_ADVANCE_TRX                     804\n",
       "PURCHASES_TRX                        766\n",
       "CREDIT_LIMIT                         249\n",
       "PAYMENTS                             808\n",
       "MINIMUM_PAYMENTS                    1154\n",
       "PRC_FULL_PAYMENT                    1474\n",
       "TENURE                              1366\n",
       "dtype: int64"
      ]
     },
     "execution_count": 7,
     "metadata": {},
     "output_type": "execute_result"
    }
   ],
   "source": [
    "for column in non_categorical_data.columns:\n",
    "    data = non_categorical_data[column]\n",
    "    \n",
    "    Q1 = data.quantile(0.25)\n",
    "    Q3 = data.quantile(0.75)\n",
    "    IQR = Q3 - Q1\n",
    "    minimum = Q1 - (1.5 * IQR)\n",
    "    maximum = Q3 + (1.5 * IQR)\n",
    " \n",
    "    outliers = ((data < minimum) |(data > maximum))\n",
    "    non_categorical_data[column].loc[outliers] = np.nan\n",
    "    \n",
    "non_categorical_data.isna().sum()"
   ]
  },
  {
   "cell_type": "code",
   "execution_count": 8,
   "metadata": {},
   "outputs": [
    {
     "data": {
      "text/plain": [
       "BALANCE                             0\n",
       "BALANCE_FREQUENCY                   0\n",
       "PURCHASES                           0\n",
       "ONEOFF_PURCHASES                    0\n",
       "INSTALLMENTS_PURCHASES              0\n",
       "CASH_ADVANCE                        0\n",
       "PURCHASES_FREQUENCY                 0\n",
       "ONEOFF_PURCHASES_FREQUENCY          0\n",
       "PURCHASES_INSTALLMENTS_FREQUENCY    0\n",
       "CASH_ADVANCE_FREQUENCY              0\n",
       "CASH_ADVANCE_TRX                    0\n",
       "PURCHASES_TRX                       0\n",
       "CREDIT_LIMIT                        0\n",
       "PAYMENTS                            0\n",
       "MINIMUM_PAYMENTS                    0\n",
       "PRC_FULL_PAYMENT                    0\n",
       "TENURE                              0\n",
       "dtype: int64"
      ]
     },
     "execution_count": 8,
     "metadata": {},
     "output_type": "execute_result"
    }
   ],
   "source": [
    "imputer = KNNImputer()\n",
    "imp_data = pd.DataFrame(imputer.fit_transform(non_categorical_data), columns=non_categorical_data.columns)\n",
    "imp_data.isna().sum()"
   ]
  },
  {
   "cell_type": "code",
   "execution_count": 12,
   "metadata": {},
   "outputs": [
    {
     "data": {
      "text/html": [
       "<div>\n",
       "<style scoped>\n",
       "    .dataframe tbody tr th:only-of-type {\n",
       "        vertical-align: middle;\n",
       "    }\n",
       "\n",
       "    .dataframe tbody tr th {\n",
       "        vertical-align: top;\n",
       "    }\n",
       "\n",
       "    .dataframe thead th {\n",
       "        text-align: right;\n",
       "    }\n",
       "</style>\n",
       "<table border=\"1\" class=\"dataframe\">\n",
       "  <thead>\n",
       "    <tr style=\"text-align: right;\">\n",
       "      <th></th>\n",
       "      <th>BALANCE</th>\n",
       "      <th>BALANCE_FREQUENCY</th>\n",
       "      <th>PURCHASES</th>\n",
       "      <th>ONEOFF_PURCHASES</th>\n",
       "      <th>INSTALLMENTS_PURCHASES</th>\n",
       "      <th>CASH_ADVANCE</th>\n",
       "      <th>PURCHASES_FREQUENCY</th>\n",
       "      <th>ONEOFF_PURCHASES_FREQUENCY</th>\n",
       "      <th>PURCHASES_INSTALLMENTS_FREQUENCY</th>\n",
       "      <th>CASH_ADVANCE_FREQUENCY</th>\n",
       "      <th>CASH_ADVANCE_TRX</th>\n",
       "      <th>PURCHASES_TRX</th>\n",
       "      <th>CREDIT_LIMIT</th>\n",
       "      <th>PAYMENTS</th>\n",
       "      <th>MINIMUM_PAYMENTS</th>\n",
       "      <th>PRC_FULL_PAYMENT</th>\n",
       "      <th>TENURE</th>\n",
       "    </tr>\n",
       "  </thead>\n",
       "  <tbody>\n",
       "    <tr>\n",
       "      <th>0</th>\n",
       "      <td>-0.938415</td>\n",
       "      <td>-2.648163</td>\n",
       "      <td>-0.769054</td>\n",
       "      <td>-0.668008</td>\n",
       "      <td>-0.453071</td>\n",
       "      <td>-0.648957</td>\n",
       "      <td>-0.806490</td>\n",
       "      <td>-0.744535</td>\n",
       "      <td>-0.707313</td>\n",
       "      <td>-0.747150</td>\n",
       "      <td>-0.681634</td>\n",
       "      <td>-0.780853</td>\n",
       "      <td>-1.058772</td>\n",
       "      <td>-0.990200</td>\n",
       "      <td>-0.849651</td>\n",
       "      <td>-0.449541</td>\n",
       "      <td>0.0</td>\n",
       "    </tr>\n",
       "    <tr>\n",
       "      <th>1</th>\n",
       "      <td>1.544889</td>\n",
       "      <td>-1.140713</td>\n",
       "      <td>-0.910890</td>\n",
       "      <td>-0.668008</td>\n",
       "      <td>-0.787709</td>\n",
       "      <td>0.880535</td>\n",
       "      <td>-1.221758</td>\n",
       "      <td>-0.744535</td>\n",
       "      <td>-0.916995</td>\n",
       "      <td>1.029213</td>\n",
       "      <td>0.865275</td>\n",
       "      <td>-0.966433</td>\n",
       "      <td>0.877124</td>\n",
       "      <td>2.904565</td>\n",
       "      <td>1.216882</td>\n",
       "      <td>2.720181</td>\n",
       "      <td>0.0</td>\n",
       "    </tr>\n",
       "    <tr>\n",
       "      <th>2</th>\n",
       "      <td>0.989314</td>\n",
       "      <td>0.366737</td>\n",
       "      <td>0.238620</td>\n",
       "      <td>1.571492</td>\n",
       "      <td>-0.787709</td>\n",
       "      <td>-0.648957</td>\n",
       "      <td>1.269843</td>\n",
       "      <td>2.115073</td>\n",
       "      <td>-0.916995</td>\n",
       "      <td>-0.747150</td>\n",
       "      <td>-0.681634</td>\n",
       "      <td>0.147050</td>\n",
       "      <td>1.038449</td>\n",
       "      <td>-0.570632</td>\n",
       "      <td>0.230934</td>\n",
       "      <td>-0.449541</td>\n",
       "      <td>0.0</td>\n",
       "    </tr>\n",
       "    <tr>\n",
       "      <th>3</th>\n",
       "      <td>0.338573</td>\n",
       "      <td>0.065247</td>\n",
       "      <td>1.317747</td>\n",
       "      <td>0.229675</td>\n",
       "      <td>-0.787709</td>\n",
       "      <td>-0.354281</td>\n",
       "      <td>-1.014125</td>\n",
       "      <td>-0.377920</td>\n",
       "      <td>-0.916995</td>\n",
       "      <td>-0.155031</td>\n",
       "      <td>-0.294907</td>\n",
       "      <td>-0.873643</td>\n",
       "      <td>1.038449</td>\n",
       "      <td>-1.191668</td>\n",
       "      <td>1.304805</td>\n",
       "      <td>-0.449541</td>\n",
       "      <td>0.0</td>\n",
       "    </tr>\n",
       "    <tr>\n",
       "      <th>4</th>\n",
       "      <td>-0.328254</td>\n",
       "      <td>0.366737</td>\n",
       "      <td>-0.887102</td>\n",
       "      <td>-0.621664</td>\n",
       "      <td>-0.787709</td>\n",
       "      <td>-0.648957</td>\n",
       "      <td>-1.014125</td>\n",
       "      <td>-0.377920</td>\n",
       "      <td>-0.916995</td>\n",
       "      <td>-0.747150</td>\n",
       "      <td>-0.681634</td>\n",
       "      <td>-0.873643</td>\n",
       "      <td>-0.994242</td>\n",
       "      <td>-0.514457</td>\n",
       "      <td>-0.616417</td>\n",
       "      <td>-0.449541</td>\n",
       "      <td>0.0</td>\n",
       "    </tr>\n",
       "  </tbody>\n",
       "</table>\n",
       "</div>"
      ],
      "text/plain": [
       "    BALANCE  BALANCE_FREQUENCY  PURCHASES  ONEOFF_PURCHASES  \\\n",
       "0 -0.938415          -2.648163  -0.769054         -0.668008   \n",
       "1  1.544889          -1.140713  -0.910890         -0.668008   \n",
       "2  0.989314           0.366737   0.238620          1.571492   \n",
       "3  0.338573           0.065247   1.317747          0.229675   \n",
       "4 -0.328254           0.366737  -0.887102         -0.621664   \n",
       "\n",
       "   INSTALLMENTS_PURCHASES  CASH_ADVANCE  PURCHASES_FREQUENCY  \\\n",
       "0               -0.453071     -0.648957            -0.806490   \n",
       "1               -0.787709      0.880535            -1.221758   \n",
       "2               -0.787709     -0.648957             1.269843   \n",
       "3               -0.787709     -0.354281            -1.014125   \n",
       "4               -0.787709     -0.648957            -1.014125   \n",
       "\n",
       "   ONEOFF_PURCHASES_FREQUENCY  PURCHASES_INSTALLMENTS_FREQUENCY  \\\n",
       "0                   -0.744535                         -0.707313   \n",
       "1                   -0.744535                         -0.916995   \n",
       "2                    2.115073                         -0.916995   \n",
       "3                   -0.377920                         -0.916995   \n",
       "4                   -0.377920                         -0.916995   \n",
       "\n",
       "   CASH_ADVANCE_FREQUENCY  CASH_ADVANCE_TRX  PURCHASES_TRX  CREDIT_LIMIT  \\\n",
       "0               -0.747150         -0.681634      -0.780853     -1.058772   \n",
       "1                1.029213          0.865275      -0.966433      0.877124   \n",
       "2               -0.747150         -0.681634       0.147050      1.038449   \n",
       "3               -0.155031         -0.294907      -0.873643      1.038449   \n",
       "4               -0.747150         -0.681634      -0.873643     -0.994242   \n",
       "\n",
       "   PAYMENTS  MINIMUM_PAYMENTS  PRC_FULL_PAYMENT  TENURE  \n",
       "0 -0.990200         -0.849651         -0.449541     0.0  \n",
       "1  2.904565          1.216882          2.720181     0.0  \n",
       "2 -0.570632          0.230934         -0.449541     0.0  \n",
       "3 -1.191668          1.304805         -0.449541     0.0  \n",
       "4 -0.514457         -0.616417         -0.449541     0.0  "
      ]
     },
     "execution_count": 12,
     "metadata": {},
     "output_type": "execute_result"
    }
   ],
   "source": [
    "std_imp_data = pd.DataFrame(StandardScaler().fit_transform(imp_data), columns=imp_data.columns)\n",
    "std_imp_data.head(5)"
   ]
  },
  {
   "cell_type": "code",
   "execution_count": null,
   "metadata": {
    "colab": {
     "base_uri": "https://localhost:8080/"
    },
    "id": "-Yd724taAv3o",
    "outputId": "a9b760da-96ed-434a-c754-12d9c48d380b"
   },
   "outputs": [],
   "source": [
    "#K-Means Clustering ========================================================================\n",
    "#Default Mode - K=8\n",
    "trainData1 = pd.DataFrame(std_imp_data['PURCHASES_FREQUENCY'])\n",
    "kmeans = KMeans()\n",
    "kmeans.fit(trainData1)\n",
    "print(kmeans.labels_)\n",
    "print(kmeans.cluster_centers_)\n",
    "#Print Silhouette measure\n",
    "print(silhouette_score(trainData1, kmeans.labels_))\n",
    "print(trainData1.shape)\n"
   ]
  },
  {
   "cell_type": "code",
   "execution_count": null,
   "metadata": {
    "colab": {
     "base_uri": "https://localhost:8080/"
    },
    "id": "ZbHRfy6u0Bu5",
    "outputId": "2206b4c9-b740-47e7-f3e7-31dd58da9367"
   },
   "outputs": [],
   "source": [
    "#Add Cluster Number to each datapoint + save file\n",
    "df_kmeans=trainData1.copy()\n",
    "kmeans_predict_train=kmeans.predict(trainData1)\n",
    "print(kmeans_predict_train)\n",
    "\n",
    "df_kmeans['Cluster Number']=kmeans.labels_\n",
    "print(std_imp_data.shape)\n",
    "print(df_kmeans.shape)\n",
    "print(df_kmeans.head(20))\n",
    "df_kmeans.dtypes\n",
    "\n",
    "export_csv = df_kmeans.to_csv(r'KmeansClusters_CC_General-8.csv')\n"
   ]
  },
  {
   "cell_type": "code",
   "execution_count": null,
   "metadata": {
    "colab": {
     "base_uri": "https://localhost:8080/"
    },
    "id": "TR10pJaLuFVM",
    "outputId": "0df87f92-3540-433f-bb1d-568855ac9c98"
   },
   "outputs": [],
   "source": [
    "#K-Means Clustering ========================================================================\n",
    "# K=20\n",
    "\n",
    "kmeans1 = KMeans(n_clusters=20, init='random', algorithm='elkan')\n",
    "kmeans1.fit(trainData1)\n",
    "kmeans1_predict_train=kmeans1.predict(trainData1)\n",
    "print(kmeans1_predict_train)\n",
    "\n",
    "#print(kmeans.labels_)\n",
    "print(kmeans1.cluster_centers_)\n",
    "print(trainData1.shape)\n",
    "#Print Silhouette measure\n",
    "print(silhouette_score(trainData1, kmeans1.labels_))"
   ]
  },
  {
   "cell_type": "code",
   "execution_count": null,
   "metadata": {
    "colab": {
     "base_uri": "https://localhost:8080/"
    },
    "id": "qNI2J3V1L4b8",
    "outputId": "899df10c-63e4-499c-f4fb-43432db7fe72"
   },
   "outputs": [],
   "source": [
    "#Add Cluster Number to each datapoint + save file\n",
    "df_kmeans=trainData1.copy()\n",
    "kmeans1_predict_train=kmeans.predict(trainData1)\n",
    "print(kmeans1_predict_train)\n",
    "\n",
    "df_kmeans['Cluster Number']=kmeans1_predict_train\n",
    "print(df_kmeans.shape)\n",
    "print(df_kmeans.head())\n",
    "print(df_kmeans.dtypes)\n",
    "\n",
    "export_csv = df_kmeans.to_csv(r'KmeansClusters_CC_General-20.csv')\n"
   ]
  },
  {
   "cell_type": "code",
   "execution_count": null,
   "metadata": {
    "colab": {
     "base_uri": "https://localhost:8080/"
    },
    "id": "hpLYf8BBtQ7b",
    "outputId": "08f138f7-6d5e-48a7-e949-2f2f6c2db451"
   },
   "outputs": [],
   "source": [
    "#Add Cluster Number to each datapoint + save file\n",
    "\n",
    "kmeans2 = KMeans(n_clusters=15, init='random', algorithm='elkan')\n",
    "kmeans2.fit(trainData1)\n",
    "kmeans2_predict_train=kmeans2.predict(trainData1)\n",
    "print(kmeans2_predict_train)\n",
    "#print(kmeans.labels_)\n",
    "print(kmeans2.cluster_centers_)\n",
    "print(trainData1.shape)\n",
    "#Print Silhouette measure\n",
    "print(silhouette_score(trainData1, kmeans2.labels_))\n",
    "\n"
   ]
  },
  {
   "cell_type": "code",
   "execution_count": null,
   "metadata": {},
   "outputs": [],
   "source": [
    "#Add Cluster Number to each datapoint + save file\n",
    "df_kmeans=trainData1.copy()\n",
    "kmeans2_predict_train=kmeans2.predict(trainData1)\n",
    "print(kmeans2_predict_train)\n",
    "\n",
    "df_kmeans['Cluster Number']=kmeans2_predict_train\n",
    "print(df_kmeans.shape)\n",
    "print(df_kmeans.head())\n",
    "print(df_kmeans.dtypes)\n",
    "\n",
    "export_csv = df_kmeans.to_csv(r'KmeansClusters_CC_General-15.csv')"
   ]
  },
  {
   "cell_type": "code",
   "execution_count": 10,
   "metadata": {
    "colab": {
     "base_uri": "https://localhost:8080/"
    },
    "id": "-Yd724taAv3o",
    "outputId": "a9b760da-96ed-434a-c754-12d9c48d380b"
   },
   "outputs": [
    {
     "name": "stdout",
     "output_type": "stream",
     "text": [
      "[0 1 6 ... 0 0 7]\n",
      "[[-0.90669118]\n",
      " [ 1.81454533]\n",
      " [-0.17493044]\n",
      " [ 0.71053388]\n",
      " [ 0.23498302]\n",
      " [ 2.47880813]\n",
      " [ 1.24290572]\n",
      " [-0.58845547]]\n",
      "0.6092279140407517\n",
      "(8950, 1)\n"
     ]
    }
   ],
   "source": [
    "#K-Means Clustering ========================================================================\n",
    "#Default Mode - K=8\n",
    "trainData2 = pd.DataFrame(std_imp_data['BALANCE'])\n",
    "kmeans = KMeans()\n",
    "kmeans.fit(trainData2)\n",
    "print(kmeans.labels_)\n",
    "print(kmeans.cluster_centers_)\n",
    "#Print Silhouette measure\n",
    "print(silhouette_score(trainData2, kmeans.labels_))\n",
    "print(trainData2.shape)\n"
   ]
  },
  {
   "cell_type": "code",
   "execution_count": 11,
   "metadata": {},
   "outputs": [
    {
     "name": "stdout",
     "output_type": "stream",
     "text": [
      "[0 1 6 ... 0 0 7]\n",
      "(8950, 1)\n",
      "(8950, 2)\n",
      "     BALANCE  Cluster Number\n",
      "0  -0.938415               0\n",
      "1   1.544889               1\n",
      "2   0.989314               6\n",
      "3   0.338573               4\n",
      "4  -0.328254               2\n",
      "5   0.451019               4\n",
      "6  -0.477849               7\n",
      "7   0.461877               4\n",
      "8  -0.173350               2\n",
      "9  -0.850972               0\n",
      "10  0.045165               4\n",
      "11 -0.475073               7\n",
      "12  0.220955               4\n",
      "13 -0.246582               2\n",
      "14  1.207379               6\n",
      "15  1.220648               6\n",
      "16  0.657004               3\n",
      "17 -0.938266               0\n",
      "18  0.591808               3\n",
      "19  1.839835               1\n"
     ]
    }
   ],
   "source": [
    "#Add Cluster Number to each datapoint + save file\n",
    "df_kmeans=trainData2.copy()\n",
    "kmeans_predict_train=kmeans.predict(trainData2)\n",
    "print(kmeans_predict_train)\n",
    "\n",
    "df_kmeans['Cluster Number']=kmeans.labels_\n",
    "print(trainData2.shape)\n",
    "print(df_kmeans.shape)\n",
    "print(df_kmeans.head(20))\n",
    "df_kmeans.dtypes\n",
    "\n",
    "export_csv = df_kmeans.to_csv(r'KmeansClusters_CC_General_bal-8.csv')"
   ]
  },
  {
   "cell_type": "code",
   "execution_count": null,
   "metadata": {
    "colab": {
     "base_uri": "https://localhost:8080/"
    },
    "id": "ZbHRfy6u0Bu5",
    "outputId": "2206b4c9-b740-47e7-f3e7-31dd58da9367"
   },
   "outputs": [],
   "source": [
    "#Add Cluster Number to each datapoint + save file\n",
    "df_kmeans=trainData2.copy()\n",
    "kmeans_predict_train=kmeans.predict(trainData2)\n",
    "print(kmeans_predict_train)\n",
    "\n",
    "df_kmeans['Cluster Number']=kmeans.labels_\n",
    "print(trainData2.shape)\n",
    "print(df_kmeans.shape)\n",
    "print(df_kmeans.head(20))\n",
    "df_kmeans.dtypes\n",
    "\n",
    "#export_csv = df_kmeans.to_csv(r'KmeansClusters_CC_General-8.csv')\n"
   ]
  },
  {
   "cell_type": "code",
   "execution_count": 14,
   "metadata": {},
   "outputs": [
    {
     "name": "stdout",
     "output_type": "stream",
     "text": [
      "[16  1  2 ... 16 16  5]\n",
      "[[-0.16532992]\n",
      " [ 1.51861704]\n",
      " [ 0.97782311]\n",
      " [ 1.84330043]\n",
      " [ 0.38876669]\n",
      " [-0.6957291 ]\n",
      " [-0.04397916]\n",
      " [ 0.09773544]\n",
      " [ 1.22398331]\n",
      " [ 2.63519167]\n",
      " [ 2.23196383]\n",
      " [-0.29800975]\n",
      " [-0.44278919]\n",
      " [-0.88582419]\n",
      " [ 0.55863894]\n",
      " [-0.58137331]\n",
      " [-0.95100275]\n",
      " [-0.80006363]\n",
      " [ 0.7606026 ]\n",
      " [ 0.23411178]]\n",
      "(8950, 1)\n",
      "0.5531986665735645\n",
      "[16  1  2 ... 16 16  5]\n",
      "(8950, 2)\n",
      "    BALANCE  Cluster Number\n",
      "0 -0.938415              16\n",
      "1  1.544889               1\n",
      "2  0.989314               2\n",
      "3  0.338573               4\n",
      "4 -0.328254              11\n",
      "BALANCE           float64\n",
      "Cluster Number      int32\n",
      "dtype: object\n"
     ]
    }
   ],
   "source": [
    "#K-Means Clustering ========================================================================\n",
    "# K=20\n",
    "\n",
    "kmeans = KMeans(n_clusters=20, init='random', algorithm='elkan')\n",
    "kmeans.fit(trainData2)\n",
    "kmeans_predict_train=kmeans.predict(trainData2)\n",
    "print(kmeans_predict_train)\n",
    "\n",
    "#print(kmeans.labels_)\n",
    "print(kmeans.cluster_centers_)\n",
    "print(trainData2.shape)\n",
    "#Print Silhouette measure\n",
    "print(silhouette_score(trainData2, kmeans.labels_))\n",
    "\n",
    "#Add Cluster Number to each datapoint + save file\n",
    "df_kmeans=trainData2.copy()\n",
    "kmeans_predict_train=kmeans.predict(trainData2)\n",
    "print(kmeans_predict_train)\n",
    "\n",
    "df_kmeans['Cluster Number']=kmeans_predict_train\n",
    "print(df_kmeans.shape)\n",
    "print(df_kmeans.head())\n",
    "print(df_kmeans.dtypes)\n",
    "\n",
    "export_csv = df_kmeans.to_csv(r'KmeansClusters_CC_General-bal-20.csv')"
   ]
  },
  {
   "cell_type": "code",
   "execution_count": 15,
   "metadata": {},
   "outputs": [
    {
     "name": "stdout",
     "output_type": "stream",
     "text": [
      "[11  0 13 ... 11 11  4]\n",
      "[[ 1.6756344 ]\n",
      " [ 0.39755838]\n",
      " [-0.83129611]\n",
      " [ 2.6036056 ]\n",
      " [-0.68507524]\n",
      " [-0.01318411]\n",
      " [ 0.18209303]\n",
      " [ 2.14137657]\n",
      " [-0.17239193]\n",
      " [ 0.63210933]\n",
      " [ 1.2700734 ]\n",
      " [-0.94167005]\n",
      " [-0.52311376]\n",
      " [ 0.93335785]\n",
      " [-0.33739433]]\n",
      "(8950, 1)\n",
      "0.5673854868111196\n",
      "[11  0 13 ... 11 11  4]\n",
      "(8950, 2)\n",
      "    BALANCE  Cluster Number\n",
      "0 -0.938415              11\n",
      "1  1.544889               0\n",
      "2  0.989314              13\n",
      "3  0.338573               1\n",
      "4 -0.328254              14\n",
      "BALANCE           float64\n",
      "Cluster Number      int32\n",
      "dtype: object\n"
     ]
    }
   ],
   "source": [
    "\n",
    "kmeans = KMeans(n_clusters=15, init='random', algorithm='elkan')\n",
    "kmeans.fit(trainData2)\n",
    "kmeans_predict_train=kmeans.predict(trainData2)\n",
    "print(kmeans_predict_train)\n",
    "\n",
    "#print(kmeans.labels_)\n",
    "print(kmeans.cluster_centers_)\n",
    "print(trainData2.shape)\n",
    "#Print Silhouette measure\n",
    "print(silhouette_score(trainData2, kmeans.labels_))\n",
    "\n",
    "#Add Cluster Number to each datapoint + save file\n",
    "df_kmeans=trainData2.copy()\n",
    "kmeans_predict_train=kmeans.predict(trainData2)\n",
    "print(kmeans_predict_train)\n",
    "\n",
    "df_kmeans['Cluster Number']=kmeans_predict_train\n",
    "print(df_kmeans.shape)\n",
    "print(df_kmeans.head())\n",
    "print(df_kmeans.dtypes)\n",
    "\n",
    "export_csv = df_kmeans.to_csv(r'KmeansClusters_CC_General-bal-15.csv')"
   ]
  },
  {
   "cell_type": "markdown",
   "metadata": {
    "id": "dSxCViWjX-HH"
   },
   "source": [
    "https://heartbeat.comet.ml/introduction-to-self-organizing-maps-soms-98e88b568f5d\n",
    "\n",
    "We initialize a 6-by-6 SOM with a learning rate of 0.5.\n",
    "\n",
    "We train the SOM on 100 iterations.\n",
    "\n",
    "The next parameter is sigma. Sigma is the radius of the different neighbors in the SOM. The default value for this is 1.0.\n",
    "\n",
    "MiniSom implements two types of training: train_random and train_batch. In train_random, we train the model by picking random samples from our data. In train_batch, the samples are picked in the order that they are stored. A method called random_weights_init initializes the weights by picking random samples from the data.\n",
    "\n",
    "\n",
    "\n"
   ]
  }
 ],
 "metadata": {
  "accelerator": "GPU",
  "colab": {
   "collapsed_sections": [],
   "name": "K_Means_Clustering.ipynb",
   "provenance": []
  },
  "kernelspec": {
   "display_name": "Python 3",
   "language": "python",
   "name": "python3"
  },
  "language_info": {
   "codemirror_mode": {
    "name": "ipython",
    "version": 3
   },
   "file_extension": ".py",
   "mimetype": "text/x-python",
   "name": "python",
   "nbconvert_exporter": "python",
   "pygments_lexer": "ipython3",
   "version": "3.8.8"
  }
 },
 "nbformat": 4,
 "nbformat_minor": 1
}
